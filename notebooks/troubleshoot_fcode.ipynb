{
 "cells": [
  {
   "cell_type": "code",
   "execution_count": 2,
   "metadata": {},
   "outputs": [
    {
     "data": {
      "text/plain": [
       "True"
      ]
     },
     "execution_count": 2,
     "metadata": {},
     "output_type": "execute_result"
    }
   ],
   "source": [
    "import pandas as pd\n",
    "import uuid\n",
    "import mysql.connector\n",
    "import numpy\n",
    "from dotenv import load_dotenv\n",
    "load_dotenv()"
   ]
  },
  {
   "cell_type": "code",
   "execution_count": 5,
   "metadata": {},
   "outputs": [],
   "source": [
    "def read_unf(csvfile):\n",
    "    colnames=['date_time', 'location', 'name', 'basket', 'payment_type', 't_price', 'payment_info']\n",
    "    df=pd.read_csv(csvfile, names=colnames,header=None, encoding = \"utf-8\")\n",
    "    #ASSIGNING RANDOM ID'S FOR EACH TRANSACTION\n",
    "    df['tsac_id']=[uuid.uuid4() for _ in range(len(df.index))] #df.index \n",
    "    df['date_time'] = pd.to_datetime(df['date_time'])\n",
    "    return df\n",
    "\n",
    "# def concat(csvfile):\n",
    "#     #EXTRACTING THE BASKET AND SPLITTING THE CONTENTS INTO THE SEPARATE ITEMS INSIDE THE BASKET\n",
    "#     df=read_unf(csvfile)\n",
    "#     basket_contents=pd.concat([df[['tsac_id']], df['basket'].str.split(',', expand=True)], axis=1)\n",
    "#     return basket_contents\n",
    "\n",
    "# def read_basket_from_csv(csvfile):\n",
    "#     basket_contents=concat(csvfile)\n",
    "#     #MAXIMUM 5 ITEMS IN BASKET EACH ITEM IN FORM SIZE:NAME:PRICE\n",
    "#     basket_contents_1=basket_contents.filter(['tsac_id', 0, 1, 2])\n",
    "\n",
    "#     basket_contents_2=basket_contents.filter(['tsac_id', 3, 4, 5])\n",
    "#     #LINKING POSITIONS IN LIST TO THEIR CORRECT FUTURE COLUMNS\n",
    "#     basket_contents_2=basket_contents_2.rename(columns={3:0, 4:1, 5:2})\n",
    "\n",
    "#     basket_contents_3=basket_contents.filter(['tsac_id', 6, 7, 8])\n",
    "#     basket_contents_3=basket_contents_3.rename(columns={6:0, 7:1, 8:2})\n",
    "\n",
    "\n",
    "#     basket_contents_4=basket_contents.filter(['tsac_id', 9, 10, 11])\n",
    "#     basket_contents_4=basket_contents_4.rename(columns={9:0, 10:1, 11:2})\n",
    "\n",
    "\n",
    "#     basket_contents_5=basket_contents.filter(['tsac_id', 12, 13, 14])\n",
    "#     basket_contents_5=basket_contents_5.rename(columns={12:0, 13:1, 14:2})\n",
    "    \n",
    "#     basket_contents=basket_contents_1.append([basket_contents_2, basket_contents_3, basket_contents_4, basket_contents_5], ignore_index=True)\n",
    "#     basket_contents=basket_contents.rename(columns={0:'size', 1:'item', 2:'price'}) #RENAME COLUMNS\n",
    "#     #DROP EMPTY SPACES FOR THE BASKETS WITH LESS THAN 5 ITEMS\n",
    "#     basket_contents=basket_contents.dropna()   \n",
    "#     # FOR CREATING THE ORDER TABLE MERGER\n",
    "#     basket_contents=basket_contents.sort_values(by=['tsac_id'])  \n",
    "#     basket_contents=basket_contents.reset_index(drop=True)\n",
    "\n",
    "#     return basket_contents\n",
    "\n",
    "\n",
    "# def prod_tbl(csvfile):\n",
    "#     basket_contents=read_basket_from_csv(csvfile)\n",
    "\n",
    "#     product=basket_contents.drop(['tsac_id'], axis=1)\n",
    "#     product=product.drop_duplicates()\n",
    "#     product=product.sort_values(by=['item']).reset_index(drop=True)\n",
    "#     product['p_id'] = [uuid.uuid4() for _ in range(len(product.index))] # product.index \n",
    "#     return product    \n",
    "\n",
    "# def location_tbl(csvfile):\n",
    "#     df=read_unf(csvfile)\n",
    "#     location=df.filter(['location']).drop_duplicates()\n",
    "#     location=location.reset_index(drop=True)\n",
    "#     location.columns=['l_name']\n",
    "#     location['l_id']=location.index + 1    \n",
    "#     return location \n",
    "\n",
    "# def transac_tbl(csvfile):\n",
    "\n",
    "#     df=read_unf(csvfile)\n",
    "\n",
    "#     location=location_tbl(csvfile)\n",
    "#     #MERGE LOCATIONS TO TRANSACTIONS SO WE CAN SPLIT TRANSACTIONS BY THE CAFE'S (IN FUTURE)\n",
    "#     transacs=(pd.merge(df, location, left_on='location', right_on='l_name', how='left')).drop(['location','l_name','date_time','name','basket', 'payment_info'], axis=1)\n",
    "#     return transacs\n",
    "\n",
    "\n",
    "# def order_tbl(csvfile):\n",
    "\n",
    "#     df = read_unf(csvfile)\n",
    "#     basket_contents = read_basket_from_csv(csvfile)\n",
    "#     product = prod_tbl(csvfile)\n",
    "    \n",
    "#     #TABLE MERGERS\n",
    "#     the_orders=(pd.merge(basket_contents, product, left_on=['size','item','price'], right_on=['size','item','price'], how='left')).drop(['item','size','price'], axis=1)\n",
    "\n",
    "#     date_time=df.filter(['tsac_id','date_time'])\n",
    "#     #TODO ISSUE WITH HOW THE DATETIME GETS VIEWED, \n",
    "#     #NOTE: CHANGING THE 'HOW' SHIFTS WHICH COLUMN DISPLAYS 'NaT' FROM DATETIME-P_ID \n",
    "#     #FROM how='left' to how='right'\n",
    "#     the_orders=(pd.merge(the_orders, date_time, left_on='tsac_id', right_on='tsac_id', how='left'))\n",
    "\n",
    "#     return the_orders\n",
    "    \n",
    "# file_a = 'mainfile.csv'\n",
    "# print(order_tbl(file_a))\n",
    "# #print(prod_tbl())\n",
    "# #print(read_unf('mainfile.csv'))\n",
    "# #print(transac_tbl(file_a))\n",
    "df = read_unf('mainfile.csv')"
   ]
  },
  {
   "cell_type": "code",
   "execution_count": 6,
   "metadata": {},
   "outputs": [
    {
     "data": {
      "text/plain": [
       "0     2020-10-01 09:00:00\n",
       "1     2020-10-01 09:01:00\n",
       "2     2020-10-01 09:02:00\n",
       "3     2020-10-01 09:03:00\n",
       "4     2020-10-01 09:04:00\n",
       "              ...        \n",
       "475   2020-10-01 16:55:00\n",
       "476   2020-10-01 16:56:00\n",
       "477   2020-10-01 16:57:00\n",
       "478   2020-10-01 16:58:00\n",
       "479   2020-10-01 16:59:00\n",
       "Name: date_time, Length: 480, dtype: datetime64[ns]"
      ]
     },
     "execution_count": 6,
     "metadata": {},
     "output_type": "execute_result"
    }
   ],
   "source": [
    "df['date_time']"
   ]
  },
  {
   "cell_type": "code",
   "execution_count": null,
   "metadata": {},
   "outputs": [],
   "source": []
  }
 ],
 "metadata": {
  "kernelspec": {
   "display_name": "Python 3",
   "language": "python",
   "name": "python3"
  }
 },
 "nbformat": 4,
 "nbformat_minor": 4
}

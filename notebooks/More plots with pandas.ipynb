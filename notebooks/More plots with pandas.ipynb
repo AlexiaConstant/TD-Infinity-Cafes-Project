{
 "cells": [
  {
   "cell_type": "code",
   "execution_count": 1,
   "metadata": {},
   "outputs": [],
   "source": [
    "import pandas as pd\n",
    "import numpy as np\n",
    "import matplotlib.pyplot as plt\n",
    "import uuid"
   ]
  },
  {
   "cell_type": "code",
   "execution_count": 2,
   "metadata": {},
   "outputs": [
    {
     "data": {
      "text/plain": [
       "'C:\\\\Users\\\\C Desktop\\\\Documents\\\\Generation Data Engineer Course\\\\projectnicsquared'"
      ]
     },
     "execution_count": 2,
     "metadata": {},
     "output_type": "execute_result"
    }
   ],
   "source": [
    "pwd"
   ]
  },
  {
   "cell_type": "code",
   "execution_count": 3,
   "metadata": {},
   "outputs": [
    {
     "data": {
      "text/html": [
       "<div>\n",
       "<style scoped>\n",
       "    .dataframe tbody tr th:only-of-type {\n",
       "        vertical-align: middle;\n",
       "    }\n",
       "\n",
       "    .dataframe tbody tr th {\n",
       "        vertical-align: top;\n",
       "    }\n",
       "\n",
       "    .dataframe thead th {\n",
       "        text-align: right;\n",
       "    }\n",
       "</style>\n",
       "<table border=\"1\" class=\"dataframe\">\n",
       "  <thead>\n",
       "    <tr style=\"text-align: right;\">\n",
       "      <th></th>\n",
       "      <th>Datetime</th>\n",
       "      <th>Location</th>\n",
       "      <th>Full Name</th>\n",
       "      <th>Order</th>\n",
       "      <th>Payment Type</th>\n",
       "      <th>Total Cost</th>\n",
       "      <th>Payment Details</th>\n",
       "    </tr>\n",
       "  </thead>\n",
       "  <tbody>\n",
       "    <tr>\n",
       "      <th>0</th>\n",
       "      <td>2020-10-01 09:00:00</td>\n",
       "      <td>Isle of Wight</td>\n",
       "      <td>John Whitmire</td>\n",
       "      <td>,Mocha,2.3,,Speciality Tea - Fruit,1.3,,Flavou...</td>\n",
       "      <td>CARD</td>\n",
       "      <td>10.90</td>\n",
       "      <td>americanexpress,379663269694145</td>\n",
       "    </tr>\n",
       "    <tr>\n",
       "      <th>1</th>\n",
       "      <td>2020-10-01 09:01:00</td>\n",
       "      <td>Isle of Wight</td>\n",
       "      <td>Sarah Perea</td>\n",
       "      <td>Large,Americano,2.25,Regular,Americano,1.95,,F...</td>\n",
       "      <td>CASH</td>\n",
       "      <td>6.95</td>\n",
       "      <td>None</td>\n",
       "    </tr>\n",
       "    <tr>\n",
       "      <th>2</th>\n",
       "      <td>2020-10-01 09:02:00</td>\n",
       "      <td>Isle of Wight</td>\n",
       "      <td>Patrick Young</td>\n",
       "      <td>,Smoothies - Carrot Kick,2.0,Large,Flavoured l...</td>\n",
       "      <td>CARD</td>\n",
       "      <td>6.15</td>\n",
       "      <td>visa13,4823964727912</td>\n",
       "    </tr>\n",
       "    <tr>\n",
       "      <th>3</th>\n",
       "      <td>2020-10-01 09:03:00</td>\n",
       "      <td>Isle of Wight</td>\n",
       "      <td>Heather Gonzalez</td>\n",
       "      <td>,Flavoured iced latte - Vanilla,2.75,Regular,L...</td>\n",
       "      <td>CASH</td>\n",
       "      <td>12.40</td>\n",
       "      <td>None</td>\n",
       "    </tr>\n",
       "    <tr>\n",
       "      <th>4</th>\n",
       "      <td>2020-10-01 09:04:00</td>\n",
       "      <td>Isle of Wight</td>\n",
       "      <td>Michael Orser</td>\n",
       "      <td>Large,Flavoured hot chocolate - Caramel,2.9,,S...</td>\n",
       "      <td>CARD</td>\n",
       "      <td>10.10</td>\n",
       "      <td>mastercard,5133682835833157</td>\n",
       "    </tr>\n",
       "    <tr>\n",
       "      <th>...</th>\n",
       "      <td>...</td>\n",
       "      <td>...</td>\n",
       "      <td>...</td>\n",
       "      <td>...</td>\n",
       "      <td>...</td>\n",
       "      <td>...</td>\n",
       "      <td>...</td>\n",
       "    </tr>\n",
       "    <tr>\n",
       "      <th>475</th>\n",
       "      <td>2020-10-01 16:55:00</td>\n",
       "      <td>Isle of Wight</td>\n",
       "      <td>Charles Evans</td>\n",
       "      <td>Regular,Cappuccino,2.15</td>\n",
       "      <td>CASH</td>\n",
       "      <td>2.15</td>\n",
       "      <td>None</td>\n",
       "    </tr>\n",
       "    <tr>\n",
       "      <th>476</th>\n",
       "      <td>2020-10-01 16:56:00</td>\n",
       "      <td>Isle of Wight</td>\n",
       "      <td>Dawn Tierney</td>\n",
       "      <td>Large,Latte,2.45,Large,Flavoured latte - Vanil...</td>\n",
       "      <td>CARD</td>\n",
       "      <td>5.30</td>\n",
       "      <td>americanexpress,368612251452833</td>\n",
       "    </tr>\n",
       "    <tr>\n",
       "      <th>477</th>\n",
       "      <td>2020-10-01 16:57:00</td>\n",
       "      <td>Isle of Wight</td>\n",
       "      <td>Roberta Huckaby</td>\n",
       "      <td>,Speciality Tea - Darjeeling,1.3,,Speciality T...</td>\n",
       "      <td>CARD</td>\n",
       "      <td>6.65</td>\n",
       "      <td>discover,6011169796556113</td>\n",
       "    </tr>\n",
       "    <tr>\n",
       "      <th>478</th>\n",
       "      <td>2020-10-01 16:58:00</td>\n",
       "      <td>Isle of Wight</td>\n",
       "      <td>Donald Allen</td>\n",
       "      <td>,Speciality Tea - Green,1.3,,Flat white,2.15,,...</td>\n",
       "      <td>CASH</td>\n",
       "      <td>4.75</td>\n",
       "      <td>None</td>\n",
       "    </tr>\n",
       "    <tr>\n",
       "      <th>479</th>\n",
       "      <td>2020-10-01 16:59:00</td>\n",
       "      <td>Isle of Wight</td>\n",
       "      <td>Carol Field</td>\n",
       "      <td>Regular,Chai latte,2.3,Large,Americano,2.25</td>\n",
       "      <td>CARD</td>\n",
       "      <td>4.55</td>\n",
       "      <td>americanexpress,352673943791481</td>\n",
       "    </tr>\n",
       "  </tbody>\n",
       "</table>\n",
       "<p>480 rows × 7 columns</p>\n",
       "</div>"
      ],
      "text/plain": [
       "                Datetime       Location         Full Name  \\\n",
       "0    2020-10-01 09:00:00  Isle of Wight     John Whitmire   \n",
       "1    2020-10-01 09:01:00  Isle of Wight       Sarah Perea   \n",
       "2    2020-10-01 09:02:00  Isle of Wight     Patrick Young   \n",
       "3    2020-10-01 09:03:00  Isle of Wight  Heather Gonzalez   \n",
       "4    2020-10-01 09:04:00  Isle of Wight     Michael Orser   \n",
       "..                   ...            ...               ...   \n",
       "475  2020-10-01 16:55:00  Isle of Wight     Charles Evans   \n",
       "476  2020-10-01 16:56:00  Isle of Wight      Dawn Tierney   \n",
       "477  2020-10-01 16:57:00  Isle of Wight   Roberta Huckaby   \n",
       "478  2020-10-01 16:58:00  Isle of Wight      Donald Allen   \n",
       "479  2020-10-01 16:59:00  Isle of Wight       Carol Field   \n",
       "\n",
       "                                                 Order Payment Type  \\\n",
       "0    ,Mocha,2.3,,Speciality Tea - Fruit,1.3,,Flavou...         CARD   \n",
       "1    Large,Americano,2.25,Regular,Americano,1.95,,F...         CASH   \n",
       "2    ,Smoothies - Carrot Kick,2.0,Large,Flavoured l...         CARD   \n",
       "3    ,Flavoured iced latte - Vanilla,2.75,Regular,L...         CASH   \n",
       "4    Large,Flavoured hot chocolate - Caramel,2.9,,S...         CARD   \n",
       "..                                                 ...          ...   \n",
       "475                            Regular,Cappuccino,2.15         CASH   \n",
       "476  Large,Latte,2.45,Large,Flavoured latte - Vanil...         CARD   \n",
       "477  ,Speciality Tea - Darjeeling,1.3,,Speciality T...         CARD   \n",
       "478  ,Speciality Tea - Green,1.3,,Flat white,2.15,,...         CASH   \n",
       "479        Regular,Chai latte,2.3,Large,Americano,2.25         CARD   \n",
       "\n",
       "     Total Cost                  Payment Details  \n",
       "0         10.90  americanexpress,379663269694145  \n",
       "1          6.95                             None  \n",
       "2          6.15             visa13,4823964727912  \n",
       "3         12.40                             None  \n",
       "4         10.10      mastercard,5133682835833157  \n",
       "..          ...                              ...  \n",
       "475        2.15                             None  \n",
       "476        5.30  americanexpress,368612251452833  \n",
       "477        6.65        discover,6011169796556113  \n",
       "478        4.75                             None  \n",
       "479        4.55  americanexpress,352673943791481  \n",
       "\n",
       "[480 rows x 7 columns]"
      ]
     },
     "execution_count": 3,
     "metadata": {},
     "output_type": "execute_result"
    }
   ],
   "source": [
    "df = pd.read_csv('2020-10-01.csv', names=['Datetime', 'Location', 'Full Name', 'Order', 'Payment Type', 'Total Cost', 'Payment Details'])\n",
    "df"
   ]
  },
  {
   "cell_type": "code",
   "execution_count": 4,
   "metadata": {},
   "outputs": [],
   "source": [
    "df.index = [uuid.uuid4() for x in range(len(df))]"
   ]
  },
  {
   "cell_type": "code",
   "execution_count": 5,
   "metadata": {},
   "outputs": [
    {
     "data": {
      "text/plain": [
       "8df84f29-5159-41a7-8be1-823606b47e63    10.90\n",
       "0bf3f2dc-805a-4318-947e-b39ff476c1ec     6.95\n",
       "cfe1da19-f34c-442a-9c7f-1f0ac0b4325f     6.15\n",
       "19fbfc1c-f395-4417-a2ed-43926ad0a16c    12.40\n",
       "b9396f2d-6449-4456-85f6-18f65959233e    10.10\n",
       "                                        ...  \n",
       "40bb6309-31e5-47fc-92cf-84e80dc1bc12     2.15\n",
       "8c345098-d404-403f-a783-d0ba4b17489d     5.30\n",
       "890dc76a-d0e2-4edd-9459-d8506a6a5d54     6.65\n",
       "43bc3c6c-c306-494e-92fa-a3bb10811071     4.75\n",
       "fd74ef62-de41-4b4e-a0c6-e208cb5faeca     4.55\n",
       "Name: Total Cost, Length: 480, dtype: float64"
      ]
     },
     "execution_count": 5,
     "metadata": {},
     "output_type": "execute_result"
    }
   ],
   "source": [
    "df['Total Cost']"
   ]
  },
  {
   "cell_type": "code",
   "execution_count": 6,
   "metadata": {},
   "outputs": [
    {
     "data": {
      "text/html": [
       "<div>\n",
       "<style scoped>\n",
       "    .dataframe tbody tr th:only-of-type {\n",
       "        vertical-align: middle;\n",
       "    }\n",
       "\n",
       "    .dataframe tbody tr th {\n",
       "        vertical-align: top;\n",
       "    }\n",
       "\n",
       "    .dataframe thead th {\n",
       "        text-align: right;\n",
       "    }\n",
       "</style>\n",
       "<table border=\"1\" class=\"dataframe\">\n",
       "  <thead>\n",
       "    <tr style=\"text-align: right;\">\n",
       "      <th></th>\n",
       "      <th>Datetime</th>\n",
       "      <th>Total Cost</th>\n",
       "    </tr>\n",
       "  </thead>\n",
       "  <tbody>\n",
       "    <tr>\n",
       "      <th>8df84f29-5159-41a7-8be1-823606b47e63</th>\n",
       "      <td>2020-10-01 09:00:00</td>\n",
       "      <td>10.90</td>\n",
       "    </tr>\n",
       "    <tr>\n",
       "      <th>0bf3f2dc-805a-4318-947e-b39ff476c1ec</th>\n",
       "      <td>2020-10-01 09:01:00</td>\n",
       "      <td>6.95</td>\n",
       "    </tr>\n",
       "    <tr>\n",
       "      <th>cfe1da19-f34c-442a-9c7f-1f0ac0b4325f</th>\n",
       "      <td>2020-10-01 09:02:00</td>\n",
       "      <td>6.15</td>\n",
       "    </tr>\n",
       "    <tr>\n",
       "      <th>19fbfc1c-f395-4417-a2ed-43926ad0a16c</th>\n",
       "      <td>2020-10-01 09:03:00</td>\n",
       "      <td>12.40</td>\n",
       "    </tr>\n",
       "    <tr>\n",
       "      <th>b9396f2d-6449-4456-85f6-18f65959233e</th>\n",
       "      <td>2020-10-01 09:04:00</td>\n",
       "      <td>10.10</td>\n",
       "    </tr>\n",
       "    <tr>\n",
       "      <th>...</th>\n",
       "      <td>...</td>\n",
       "      <td>...</td>\n",
       "    </tr>\n",
       "    <tr>\n",
       "      <th>40bb6309-31e5-47fc-92cf-84e80dc1bc12</th>\n",
       "      <td>2020-10-01 16:55:00</td>\n",
       "      <td>2.15</td>\n",
       "    </tr>\n",
       "    <tr>\n",
       "      <th>8c345098-d404-403f-a783-d0ba4b17489d</th>\n",
       "      <td>2020-10-01 16:56:00</td>\n",
       "      <td>5.30</td>\n",
       "    </tr>\n",
       "    <tr>\n",
       "      <th>890dc76a-d0e2-4edd-9459-d8506a6a5d54</th>\n",
       "      <td>2020-10-01 16:57:00</td>\n",
       "      <td>6.65</td>\n",
       "    </tr>\n",
       "    <tr>\n",
       "      <th>43bc3c6c-c306-494e-92fa-a3bb10811071</th>\n",
       "      <td>2020-10-01 16:58:00</td>\n",
       "      <td>4.75</td>\n",
       "    </tr>\n",
       "    <tr>\n",
       "      <th>fd74ef62-de41-4b4e-a0c6-e208cb5faeca</th>\n",
       "      <td>2020-10-01 16:59:00</td>\n",
       "      <td>4.55</td>\n",
       "    </tr>\n",
       "  </tbody>\n",
       "</table>\n",
       "<p>480 rows × 2 columns</p>\n",
       "</div>"
      ],
      "text/plain": [
       "                                                 Datetime  Total Cost\n",
       "8df84f29-5159-41a7-8be1-823606b47e63  2020-10-01 09:00:00       10.90\n",
       "0bf3f2dc-805a-4318-947e-b39ff476c1ec  2020-10-01 09:01:00        6.95\n",
       "cfe1da19-f34c-442a-9c7f-1f0ac0b4325f  2020-10-01 09:02:00        6.15\n",
       "19fbfc1c-f395-4417-a2ed-43926ad0a16c  2020-10-01 09:03:00       12.40\n",
       "b9396f2d-6449-4456-85f6-18f65959233e  2020-10-01 09:04:00       10.10\n",
       "...                                                   ...         ...\n",
       "40bb6309-31e5-47fc-92cf-84e80dc1bc12  2020-10-01 16:55:00        2.15\n",
       "8c345098-d404-403f-a783-d0ba4b17489d  2020-10-01 16:56:00        5.30\n",
       "890dc76a-d0e2-4edd-9459-d8506a6a5d54  2020-10-01 16:57:00        6.65\n",
       "43bc3c6c-c306-494e-92fa-a3bb10811071  2020-10-01 16:58:00        4.75\n",
       "fd74ef62-de41-4b4e-a0c6-e208cb5faeca  2020-10-01 16:59:00        4.55\n",
       "\n",
       "[480 rows x 2 columns]"
      ]
     },
     "execution_count": 6,
     "metadata": {},
     "output_type": "execute_result"
    }
   ],
   "source": [
    "time_cost = df[['Datetime', 'Total Cost']]\n",
    "time_cost"
   ]
  },
  {
   "cell_type": "code",
   "execution_count": 7,
   "metadata": {},
   "outputs": [
    {
     "data": {
      "text/plain": [
       "<AxesSubplot:title={'center':'Cumulative day revenue (2020-10-01)'}, xlabel='Time', ylabel='Total Revenue'>"
      ]
     },
     "execution_count": 7,
     "metadata": {},
     "output_type": "execute_result"
    },
    {
     "data": {
      "image/png": "[encoded data removed]",
      "text/plain": [
       "<Figure size 432x288 with 1 Axes>"
      ]
     },
     "metadata": {
      "needs_background": "light"
     },
     "output_type": "display_data"
    }
   ],
   "source": [
    "time_cost.index = pd.to_datetime(time_cost['Datetime'])\n",
    "series = pd.Series(time_cost['Total Cost'], index=time_cost.index)\n",
    "resampled_series = series.resample('30T').sum()\n",
    "resampled_series.cumsum().plot(title='Cumulative day revenue (2020-10-01)', xlabel='Time', ylabel='Total Revenue')"
   ]
  },
  {
   "cell_type": "code",
   "execution_count": 8,
   "metadata": {},
   "outputs": [],
   "source": [
    "products_sold_daily = pd.read_csv('products_sold.csv', names=['Size', 'Drink', 'Total Sold'])"
   ]
  },
  {
   "cell_type": "code",
   "execution_count": 9,
   "metadata": {},
   "outputs": [
    {
     "data": {
      "text/html": [
       "<div>\n",
       "<style scoped>\n",
       "    .dataframe tbody tr th:only-of-type {\n",
       "        vertical-align: middle;\n",
       "    }\n",
       "\n",
       "    .dataframe tbody tr th {\n",
       "        vertical-align: top;\n",
       "    }\n",
       "\n",
       "    .dataframe thead th {\n",
       "        text-align: right;\n",
       "    }\n",
       "</style>\n",
       "<table border=\"1\" class=\"dataframe\">\n",
       "  <thead>\n",
       "    <tr style=\"text-align: right;\">\n",
       "      <th></th>\n",
       "      <th>Size</th>\n",
       "      <th>Drink</th>\n",
       "      <th>Total Sold</th>\n",
       "    </tr>\n",
       "  </thead>\n",
       "  <tbody>\n",
       "    <tr>\n",
       "      <th>0</th>\n",
       "      <td>NaN</td>\n",
       "      <td>Mocha</td>\n",
       "      <td>35</td>\n",
       "    </tr>\n",
       "    <tr>\n",
       "      <th>1</th>\n",
       "      <td>NaN</td>\n",
       "      <td>Speciality Tea - Fruit</td>\n",
       "      <td>29</td>\n",
       "    </tr>\n",
       "    <tr>\n",
       "      <th>2</th>\n",
       "      <td>NaN</td>\n",
       "      <td>Flavoured Iced Latte - Vanilla</td>\n",
       "      <td>28</td>\n",
       "    </tr>\n",
       "    <tr>\n",
       "      <th>3</th>\n",
       "      <td>NaN</td>\n",
       "      <td>Frappes - Chocolate Cookie</td>\n",
       "      <td>41</td>\n",
       "    </tr>\n",
       "    <tr>\n",
       "      <th>4</th>\n",
       "      <td>Large</td>\n",
       "      <td>Filter Coffee</td>\n",
       "      <td>24</td>\n",
       "    </tr>\n",
       "    <tr>\n",
       "      <th>5</th>\n",
       "      <td>Large</td>\n",
       "      <td>Americano</td>\n",
       "      <td>37</td>\n",
       "    </tr>\n",
       "    <tr>\n",
       "      <th>6</th>\n",
       "      <td>Regular</td>\n",
       "      <td>Americano</td>\n",
       "      <td>25</td>\n",
       "    </tr>\n",
       "    <tr>\n",
       "      <th>7</th>\n",
       "      <td>NaN</td>\n",
       "      <td>Smoothies - Glowing Greens</td>\n",
       "      <td>31</td>\n",
       "    </tr>\n",
       "  </tbody>\n",
       "</table>\n",
       "</div>"
      ],
      "text/plain": [
       "      Size                           Drink  Total Sold\n",
       "0      NaN                           Mocha          35\n",
       "1      NaN          Speciality Tea - Fruit          29\n",
       "2      NaN  Flavoured Iced Latte - Vanilla          28\n",
       "3      NaN      Frappes - Chocolate Cookie          41\n",
       "4    Large                   Filter Coffee          24\n",
       "5    Large                       Americano          37\n",
       "6  Regular                       Americano          25\n",
       "7      NaN      Smoothies - Glowing Greens          31"
      ]
     },
     "execution_count": 9,
     "metadata": {},
     "output_type": "execute_result"
    }
   ],
   "source": [
    "products_sold_daily"
   ]
  },
  {
   "cell_type": "code",
   "execution_count": 10,
   "metadata": {},
   "outputs": [
    {
     "data": {
      "text/plain": [
       "<AxesSubplot:title={'center':'Total drinks sold'}, ylabel='Drink'>"
      ]
     },
     "execution_count": 10,
     "metadata": {},
     "output_type": "execute_result"
    },
    {
     "data": {
      "image/png": "[encoded data removed]",
      "text/plain": [
       "<Figure size 432x288 with 1 Axes>"
      ]
     },
     "metadata": {
      "needs_background": "light"
     },
     "output_type": "display_data"
    }
   ],
   "source": [
    "products_sold_daily.plot(x='Drink', kind='barh', stacked=True, title='Total drinks sold', legend=False)"
   ]
  },
  {
   "cell_type": "code",
   "execution_count": 11,
   "metadata": {},
   "outputs": [],
   "source": [
    "products_sold_daily.index = products_sold_daily['Drink']"
   ]
  },
  {
   "cell_type": "code",
   "execution_count": 12,
   "metadata": {},
   "outputs": [
    {
     "data": {
      "text/html": [
       "<div>\n",
       "<style scoped>\n",
       "    .dataframe tbody tr th:only-of-type {\n",
       "        vertical-align: middle;\n",
       "    }\n",
       "\n",
       "    .dataframe tbody tr th {\n",
       "        vertical-align: top;\n",
       "    }\n",
       "\n",
       "    .dataframe thead th {\n",
       "        text-align: right;\n",
       "    }\n",
       "</style>\n",
       "<table border=\"1\" class=\"dataframe\">\n",
       "  <thead>\n",
       "    <tr style=\"text-align: right;\">\n",
       "      <th></th>\n",
       "      <th>Size</th>\n",
       "      <th>Drink</th>\n",
       "      <th>Total Sold</th>\n",
       "    </tr>\n",
       "    <tr>\n",
       "      <th>Drink</th>\n",
       "      <th></th>\n",
       "      <th></th>\n",
       "      <th></th>\n",
       "    </tr>\n",
       "  </thead>\n",
       "  <tbody>\n",
       "    <tr>\n",
       "      <th>Mocha</th>\n",
       "      <td>NaN</td>\n",
       "      <td>Mocha</td>\n",
       "      <td>35</td>\n",
       "    </tr>\n",
       "    <tr>\n",
       "      <th>Speciality Tea - Fruit</th>\n",
       "      <td>NaN</td>\n",
       "      <td>Speciality Tea - Fruit</td>\n",
       "      <td>29</td>\n",
       "    </tr>\n",
       "    <tr>\n",
       "      <th>Flavoured Iced Latte - Vanilla</th>\n",
       "      <td>NaN</td>\n",
       "      <td>Flavoured Iced Latte - Vanilla</td>\n",
       "      <td>28</td>\n",
       "    </tr>\n",
       "    <tr>\n",
       "      <th>Frappes - Chocolate Cookie</th>\n",
       "      <td>NaN</td>\n",
       "      <td>Frappes - Chocolate Cookie</td>\n",
       "      <td>41</td>\n",
       "    </tr>\n",
       "    <tr>\n",
       "      <th>Filter Coffee</th>\n",
       "      <td>Large</td>\n",
       "      <td>Filter Coffee</td>\n",
       "      <td>24</td>\n",
       "    </tr>\n",
       "    <tr>\n",
       "      <th>Americano</th>\n",
       "      <td>Large</td>\n",
       "      <td>Americano</td>\n",
       "      <td>37</td>\n",
       "    </tr>\n",
       "    <tr>\n",
       "      <th>Americano</th>\n",
       "      <td>Regular</td>\n",
       "      <td>Americano</td>\n",
       "      <td>25</td>\n",
       "    </tr>\n",
       "    <tr>\n",
       "      <th>Smoothies - Glowing Greens</th>\n",
       "      <td>NaN</td>\n",
       "      <td>Smoothies - Glowing Greens</td>\n",
       "      <td>31</td>\n",
       "    </tr>\n",
       "  </tbody>\n",
       "</table>\n",
       "</div>"
      ],
      "text/plain": [
       "                                   Size                           Drink  \\\n",
       "Drink                                                                     \n",
       "Mocha                               NaN                           Mocha   \n",
       "Speciality Tea - Fruit              NaN          Speciality Tea - Fruit   \n",
       "Flavoured Iced Latte - Vanilla      NaN  Flavoured Iced Latte - Vanilla   \n",
       "Frappes - Chocolate Cookie          NaN      Frappes - Chocolate Cookie   \n",
       "Filter Coffee                     Large                   Filter Coffee   \n",
       "Americano                         Large                       Americano   \n",
       "Americano                       Regular                       Americano   \n",
       "Smoothies - Glowing Greens          NaN      Smoothies - Glowing Greens   \n",
       "\n",
       "                                Total Sold  \n",
       "Drink                                       \n",
       "Mocha                                   35  \n",
       "Speciality Tea - Fruit                  29  \n",
       "Flavoured Iced Latte - Vanilla          28  \n",
       "Frappes - Chocolate Cookie              41  \n",
       "Filter Coffee                           24  \n",
       "Americano                               37  \n",
       "Americano                               25  \n",
       "Smoothies - Glowing Greens              31  "
      ]
     },
     "execution_count": 12,
     "metadata": {},
     "output_type": "execute_result"
    }
   ],
   "source": [
    "products_sold_daily"
   ]
  },
  {
   "cell_type": "code",
   "execution_count": 13,
   "metadata": {},
   "outputs": [
    {
     "data": {
      "text/plain": [
       "<AxesSubplot:title={'center':'Total drinks sold'}, ylabel='Drink'>"
      ]
     },
     "execution_count": 13,
     "metadata": {},
     "output_type": "execute_result"
    },
    {
     "data": {
      "image/png": "[encoded data removed]",
      "text/plain": [
       "<Figure size 432x288 with 1 Axes>"
      ]
     },
     "metadata": {
      "needs_background": "light"
     },
     "output_type": "display_data"
    }
   ],
   "source": [
    "products_sold_daily.plot(x='Drink',kind='barh', stacked=True, title='Total drinks sold', legend=False)"
   ]
  },
  {
   "cell_type": "code",
   "execution_count": 36,
   "metadata": {},
   "outputs": [],
   "source": [
    "stacked_drinks_sold = pd.read_csv('products_sold2.csv', names=['Drink', 'Regular', 'Large'])"
   ]
  },
  {
   "cell_type": "code",
   "execution_count": 37,
   "metadata": {},
   "outputs": [
    {
     "data": {
      "text/html": [
       "<div>\n",
       "<style scoped>\n",
       "    .dataframe tbody tr th:only-of-type {\n",
       "        vertical-align: middle;\n",
       "    }\n",
       "\n",
       "    .dataframe tbody tr th {\n",
       "        vertical-align: top;\n",
       "    }\n",
       "\n",
       "    .dataframe thead th {\n",
       "        text-align: right;\n",
       "    }\n",
       "</style>\n",
       "<table border=\"1\" class=\"dataframe\">\n",
       "  <thead>\n",
       "    <tr style=\"text-align: right;\">\n",
       "      <th></th>\n",
       "      <th>Drink</th>\n",
       "      <th>Regular</th>\n",
       "      <th>Large</th>\n",
       "    </tr>\n",
       "  </thead>\n",
       "  <tbody>\n",
       "    <tr>\n",
       "      <th>0</th>\n",
       "      <td>Mocha</td>\n",
       "      <td>35</td>\n",
       "      <td>NaN</td>\n",
       "    </tr>\n",
       "    <tr>\n",
       "      <th>1</th>\n",
       "      <td>Speciality Tea - Fruit</td>\n",
       "      <td>29</td>\n",
       "      <td>NaN</td>\n",
       "    </tr>\n",
       "    <tr>\n",
       "      <th>2</th>\n",
       "      <td>Flavoured Iced Latte - Vanilla</td>\n",
       "      <td>28</td>\n",
       "      <td>NaN</td>\n",
       "    </tr>\n",
       "    <tr>\n",
       "      <th>3</th>\n",
       "      <td>Frappes - Chocolate Cookie</td>\n",
       "      <td>41</td>\n",
       "      <td>NaN</td>\n",
       "    </tr>\n",
       "    <tr>\n",
       "      <th>4</th>\n",
       "      <td>Filter Coffee</td>\n",
       "      <td>12</td>\n",
       "      <td>24.0</td>\n",
       "    </tr>\n",
       "    <tr>\n",
       "      <th>5</th>\n",
       "      <td>Americano</td>\n",
       "      <td>25</td>\n",
       "      <td>37.0</td>\n",
       "    </tr>\n",
       "    <tr>\n",
       "      <th>6</th>\n",
       "      <td>Smoothies - Glowing Greens</td>\n",
       "      <td>31</td>\n",
       "      <td>NaN</td>\n",
       "    </tr>\n",
       "  </tbody>\n",
       "</table>\n",
       "</div>"
      ],
      "text/plain": [
       "                            Drink  Regular  Large\n",
       "0                           Mocha       35    NaN\n",
       "1          Speciality Tea - Fruit       29    NaN\n",
       "2  Flavoured Iced Latte - Vanilla       28    NaN\n",
       "3      Frappes - Chocolate Cookie       41    NaN\n",
       "4                   Filter Coffee       12   24.0\n",
       "5                       Americano       25   37.0\n",
       "6      Smoothies - Glowing Greens       31    NaN"
      ]
     },
     "execution_count": 37,
     "metadata": {},
     "output_type": "execute_result"
    }
   ],
   "source": [
    "stacked_drinks_sold"
   ]
  },
  {
   "cell_type": "code",
   "execution_count": 43,
   "metadata": {},
   "outputs": [
    {
     "data": {
      "text/plain": [
       "<AxesSubplot:title={'center':'Total drinks sold'}>"
      ]
     },
     "execution_count": 43,
     "metadata": {},
     "output_type": "execute_result"
    },
    {
     "data": {
      "image/png": "[encoded data removed]",
      "text/plain": [
       "<Figure size 720x720 with 1 Axes>"
      ]
     },
     "metadata": {
      "needs_background": "light"
     },
     "output_type": "display_data"
    }
   ],
   "source": [
    "stacked_drinks_sold.plot(x='Drink', kind='barh', xlabel='', ylabel='Total Sold', figsize=(10,10), fontsize=12, stacked=True, title='Total drinks sold', legend=True)"
   ]
  },
  {
   "cell_type": "code",
   "execution_count": null,
   "metadata": {},
   "outputs": [],
   "source": []
  }
 ],
 "metadata": {
  "kernelspec": {
   "display_name": "Python 3",
   "language": "python",
   "name": "python3"
  },
  "language_info": {
   "codemirror_mode": {
    "name": "ipython",
    "version": 3
   },
   "file_extension": ".py",
   "mimetype": "text/x-python",
   "name": "python",
   "nbconvert_exporter": "python",
   "pygments_lexer": "ipython3",
   "version": "3.8.5"
  }
 },
 "nbformat": 4,
 "nbformat_minor": 4
}
